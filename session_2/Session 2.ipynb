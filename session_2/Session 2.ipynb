{
 "cells": [
  {
   "cell_type": "markdown",
   "id": "d0c86ff6-4307-4931-acff-24865e8a8ccc",
   "metadata": {},
   "source": [
    "### 1. Roman numerals\n",
    "\n",
    "Roman numerals are represented by seven different symbols: I, V, X, L, C, D and M.\n",
    "\n",
    "|Symbol   |    Value   |\n",
    "|---------|----------- |\n",
    "|I        |    1       |\n",
    "|V        |    5       |\n",
    "|X        |    10      |\n",
    "|L        |    50      |\n",
    "|C        |    100     |\n",
    "|D        |    500     |\n",
    "|M        |    1000    |\n",
    "\n",
    "For example, 2 is written as II in Roman numeral, just two ones added together. 12 is written as XII, which is simply X + II. The number 27 is written as XXVII, which is XX + V + II.\n",
    "\n",
    "Roman numerals are usually written largest to smallest from left to right. However, the numeral for four is not IIII. Instead, the number four is written as IV. Because the one is before the five we subtract it making four. The same principle applies to the number nine, which is written as IX. There are six instances where subtraction is used:\n",
    "\n",
    "- I can be placed before V (5) and X (10) to make 4 and 9. \n",
    "- X can be placed before L (50) and C (100) to make 40 and 90. \n",
    "- C can be placed before D (500) and M (1000) to make 400 and 900.\n",
    "- Given a roman numeral, convert it to an integer.\n",
    "\n",
    " \n",
    "\n",
    "**Examples:**\n",
    "```\n",
    "Input: s = \"III\"\n",
    "Output: 3\n",
    "Explanation: III = 3.\n",
    "```\n",
    "```\n",
    "Input: s = \"LVIII\"\n",
    "Output: 58\n",
    "Explanation: L = 50, V= 5, III = 3.\n",
    "```\n",
    "```\n",
    "Input: s = \"MCMXCIV\"\n",
    "Output: 1994\n",
    "Explanation: M = 1000, CM = 900, XC = 90 and IV = 4.\n",
    "```\n",
    "\n",
    "**Constraints:**\n",
    "\n",
    "- 1 <= s.length <= 15\n",
    "- s contains only the characters ('I', 'V', 'X', 'L', 'C', 'D', 'M').\n",
    "It is guaranteed that s is a valid roman numeral in the range [1, 3999]."
   ]
  },
  {
   "cell_type": "code",
   "execution_count": 1,
   "id": "febebe70",
   "metadata": {
    "ExecuteTime": {
     "end_time": "2025-10-27T07:21:17.373766Z",
     "start_time": "2025-10-27T07:21:17.368819Z"
    }
   },
   "outputs": [
    {
     "ename": "SyntaxError",
     "evalue": "invalid syntax (4028380831.py, line 1)",
     "output_type": "error",
     "traceback": [
      "  \u001b[36mCell\u001b[39m\u001b[36m \u001b[39m\u001b[32mIn[1]\u001b[39m\u001b[32m, line 1\u001b[39m\n\u001b[31m    \u001b[39m\u001b[31m\"IV\" in not ([\"I\",\"V\",\"X\"])\u001b[39m\n            ^\n\u001b[31mSyntaxError\u001b[39m\u001b[31m:\u001b[39m invalid syntax\n"
     ]
    }
   ],
   "source": [
    "\"IV\" in not ([\"I\",\"V\",\"X\"])"
   ]
  },
  {
   "cell_type": "code",
   "execution_count": 4,
   "id": "6b8e9940-d838-4a52-bb80-32c2948c4b41",
   "metadata": {},
   "outputs": [
    {
     "name": "stdin",
     "output_type": "stream",
     "text": [
      "Write a roman number:  MCMXCIV\n"
     ]
    },
    {
     "name": "stdout",
     "output_type": "stream",
     "text": [
      "The integer value of the roman number MCMXCIV is 1994\n"
     ]
    }
   ],
   "source": [
    "roman = {\"I\":1,\n",
    "         \"V\":5,\n",
    "         \"X\":10,\n",
    "         \"L\":50,\n",
    "         \"C\":100,\n",
    "         \"D\":500,\n",
    "         \"M\":1000}\n",
    "\n",
    "\n",
    "number = input(\"Write a roman number: \").upper()\n",
    "\n",
    "total = 0\n",
    "\n",
    "prev_number = 0\n",
    "# number[::-1]\n",
    "# \"MCMXCIV\"\n",
    "for ch in reversed(number):\n",
    "    value = roman[ch]\n",
    "\n",
    "    if value < prev_number:\n",
    "        total -= value\n",
    "    else:\n",
    "        total += value\n",
    "    \n",
    "    prev_number = value\n",
    "\n",
    "print(f\"The integer value of the roman number {number} is {total}\")"
   ]
  },
  {
   "cell_type": "markdown",
   "id": "d59a6355-3af0-4712-a6fb-e86f375820dc",
   "metadata": {},
   "source": [
    "### 2. Longest Common Prefix\n",
    "\n",
    "Write a function to find the longest common prefix string among an array of strings. If there is no common prefix, return an empty string \"\". \n",
    "\n",
    "\n",
    "**Examples:**\n",
    "```\n",
    "Input: [\"flower\",\"flow\",\"flight\"]  \n",
    "Output: \"fl\"\n",
    "```\n",
    "```\n",
    "Input: [\"dog\",\"racecar\",\"car\"]  \n",
    "Output: \"\"\n",
    "```\n",
    "\n",
    "**Constraints:**\n",
    "\n",
    "- 0 <= strs.length <= … (the size of the array)\n",
    "\n",
    "- 0 <= strs[i].length <= … (the length of each string)\n",
    "\n",
    "- All given inputs consist of lower-case English letters only."
   ]
  },
  {
   "cell_type": "code",
   "execution_count": 20,
   "id": "bb587d5e-e653-4283-99f7-013ccccab8c3",
   "metadata": {},
   "outputs": [
    {
     "name": "stdin",
     "output_type": "stream",
     "text": [
      " flow,flight,flower\n"
     ]
    },
    {
     "name": "stdout",
     "output_type": "stream",
     "text": [
      "fl\n"
     ]
    }
   ],
   "source": [
    "List = input().split(\",\")\n",
    "#if List is None\n",
    "if not List:\n",
    "    print(\"\")\n",
    "else:\n",
    "    i = 0\n",
    "    for index, value in enumerate(List):\n",
    "        prefix = List[0][:i]\n",
    "        if value.startswith(prefix):\n",
    "            i += 1\n",
    "            continue\n",
    "        else:\n",
    "            break\n",
    "    print(List[0][:i-1])"
   ]
  },
  {
   "cell_type": "markdown",
   "id": "4493cfe2-8021-49c2-ad33-2f6d462dc75c",
   "metadata": {},
   "source": [
    "### 3. Missing Number\n",
    "\n",
    "Given an array nums containing n distinct numbers in the range [0, n], return the only number in the range that is missing from the array. \n",
    "\n",
    "Examples:\n",
    "```\n",
    "Input: nums = [3, 0, 1]\n",
    "Output: 2\n",
    "```\n",
    "```\n",
    "Input: nums = [0, 1]\n",
    "Output: 2\n",
    "```\n",
    "**Constraints:**\n",
    "\n",
    "- n == nums.length \n",
    "\n",
    "- The numbers in nums are distinct. \n",
    "\n",
    "- All numbers appear in the range [0, n] (inclusive of 0 and n). \n",
    "Medium\n",
    "\n",
    "- There is exactly one number in that range which is not in nums."
   ]
  },
  {
   "cell_type": "code",
   "execution_count": 25,
   "id": "1499d306-422b-4de5-b35b-b97c55d85e0c",
   "metadata": {},
   "outputs": [
    {
     "name": "stdin",
     "output_type": "stream",
     "text": [
      " 4\n",
      " 0,1,3\n"
     ]
    },
    {
     "name": "stdout",
     "output_type": "stream",
     "text": [
      "2\n",
      "4\n"
     ]
    }
   ],
   "source": [
    "n = int(input(\"\"))\n",
    "List = list(map(int,input(\"\").split(\",\")))\n",
    "for i in range(n+1):\n",
    "    if i not in List:\n",
    "        print(i)"
   ]
  },
  {
   "cell_type": "markdown",
   "id": "7c16855e-8e0a-49b3-800d-70360d3bfc64",
   "metadata": {},
   "source": [
    "### 4. Is Subsequence\n",
    "\n",
    "Given two strings s and t, return true if s is a subsequence of t, or false otherwise.\n",
    "A subsequence of a string is a new string which is formed from the original string by deleting some (can be none) of the characters without disturbing the relative positions of the remaining characters.\n",
    "For example, \"ace\" is a subsequence of \"abcde\" while \"aec\" is not. \n",
    "\n",
    "\n",
    "**Examples:**\n",
    "```\n",
    "Input: s = \"abc\", t = \"ahbgdc\"\n",
    "Output: true\n",
    "```\n",
    "```\n",
    "Input: s = \"axc\", t = \"ahbgdc\"\n",
    "Output: false\n",
    "```\n",
    "\n",
    "**Constraints:**\n",
    "\n",
    "- 0 <= s.length <= 100 \n",
    "\n",
    "- 0 <= t.length <= 10⁴ \n",
    "\n",
    "- s and t consist only of lowercase English letters. "
   ]
  },
  {
   "cell_type": "code",
   "execution_count": 24,
   "id": "8fe7a38c-a3ab-4b6b-934d-61f8fbb40c3c",
   "metadata": {},
   "outputs": [
    {
     "name": "stdout",
     "output_type": "stream",
     "text": [
      "True\n"
     ]
    }
   ],
   "source": [
    "s = \"abc\"\n",
    "t = \"ahbgdc\"\n",
    "\n",
    "i = 0  # pointer for s\n",
    "for char in t:\n",
    "    if i < len(s) and char == s[i]:\n",
    "        i += 1\n",
    "\n",
    "print(i == len(s))"
   ]
  },
  {
   "cell_type": "markdown",
   "id": "b27fb5e8-fcc4-480a-941d-ba33209b0ed1",
   "metadata": {},
   "source": [
    "### 5. Fibonacci Number\n",
    "\n",
    "The Fibonacci numbers, commonly denoted F(n), form a sequence called the Fibonacci sequence.\n",
    "Each number is the sum of the two preceding ones, starting from 0 and 1.\n",
    "\n",
    "That is:\n",
    "\n",
    "F(0) = 0, F(1) = 1\n",
    "F(n) = F(n - 1) + F(n - 2) for n > 1\n",
    "\n",
    "\n",
    "Given an integer n, return the value of F(n) computed using iteration (not recursion).\n",
    "\n",
    "**Examples:**\n",
    "```\n",
    "Input: n = 2\n",
    "Output: 1\n",
    "```\n",
    "Explanation: F(2) = F(1) + F(0) = 1 + 0 = 1\n",
    "```\n",
    "Input: n = 3\n",
    "Output: 2\n",
    "```\n",
    "Explanation: F(3) = F(2) + F(1) = 1 + 1 = 2\n",
    "```\n",
    "Input: n = 4\n",
    "Output: 3\n",
    "```\n",
    "Explanation: F(4) = F(3) + F(2) = 2 + 1 = 3\n",
    "\n",
    "**Constraints:**\n",
    "\n",
    "- 0 <= n <= 30"
   ]
  },
  {
   "cell_type": "code",
   "execution_count": 26,
   "id": "511997a1-5f2c-407e-8d3e-e94421a4f6db",
   "metadata": {},
   "outputs": [
    {
     "name": "stdin",
     "output_type": "stream",
     "text": [
      "Enter how many terms you want:  7\n"
     ]
    },
    {
     "name": "stdout",
     "output_type": "stream",
     "text": [
      "0 1 1 2 3 5 8 "
     ]
    }
   ],
   "source": [
    "n = int(input(\"Enter how many terms you want: \"))\n",
    "\n",
    "a, b = 0, 1\n",
    "count = 0\n",
    "\n",
    "while count < n:\n",
    "    print(a, end=\" \")\n",
    "    a, b = b, a + b\n",
    "    count += 1"
   ]
  }
 ],
 "metadata": {
  "kernelspec": {
   "display_name": "Python 3 (ipykernel)",
   "language": "python",
   "name": "python3"
  },
  "language_info": {
   "codemirror_mode": {
    "name": "ipython",
    "version": 3
   },
   "file_extension": ".py",
   "mimetype": "text/x-python",
   "name": "python",
   "nbconvert_exporter": "python",
   "pygments_lexer": "ipython3",
   "version": "3.12.7"
  }
 },
 "nbformat": 4,
 "nbformat_minor": 5
}
