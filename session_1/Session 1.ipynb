{
 "cells": [
  {
   "cell_type": "markdown",
   "id": "00cd1cab-b80a-4e17-815d-f0aea3e931b1",
   "metadata": {},
   "source": [
    "# Useful functions"
   ]
  },
  {
   "cell_type": "code",
   "execution_count": 6,
   "id": "53dce266-6e3d-4673-a5c8-d64f173ea273",
   "metadata": {},
   "outputs": [
    {
     "name": "stdin",
     "output_type": "stream",
     "text": [
      "Please Enter your name:  Asal\n",
      "Please Enter your age:  20\n"
     ]
    }
   ],
   "source": [
    "name = input(\"Please Enter your name: \")\n",
    "age = input(\"Please Enter your age: \")"
   ]
  },
  {
   "cell_type": "code",
   "execution_count": 8,
   "id": "f2e66811-dbef-49fc-8c79-f22a9c5394ee",
   "metadata": {},
   "outputs": [
    {
     "data": {
      "text/plain": [
       "str"
      ]
     },
     "execution_count": 8,
     "metadata": {},
     "output_type": "execute_result"
    }
   ],
   "source": [
    "type(name)"
   ]
  },
  {
   "cell_type": "code",
   "execution_count": 12,
   "id": "503f27bb-5a76-418e-bca1-314f6a07fdc3",
   "metadata": {},
   "outputs": [
    {
     "data": {
      "text/plain": [
       "False"
      ]
     },
     "execution_count": 12,
     "metadata": {},
     "output_type": "execute_result"
    }
   ],
   "source": [
    "isinstance(age, int)"
   ]
  },
  {
   "cell_type": "code",
   "execution_count": 14,
   "id": "e1ef8ac7-14de-4005-bd12-da32dd554c5b",
   "metadata": {},
   "outputs": [
    {
     "data": {
      "text/plain": [
       "str"
      ]
     },
     "execution_count": 14,
     "metadata": {},
     "output_type": "execute_result"
    }
   ],
   "source": [
    "type(age)"
   ]
  },
  {
   "cell_type": "code",
   "execution_count": 16,
   "id": "a0174778-9f3d-40b3-ad25-87376d1c27d5",
   "metadata": {},
   "outputs": [],
   "source": [
    "age = int(age)"
   ]
  },
  {
   "cell_type": "code",
   "execution_count": 18,
   "id": "7af2f125-745f-4e8d-bf7c-f4bf30d25d81",
   "metadata": {},
   "outputs": [
    {
     "data": {
      "text/plain": [
       "int"
      ]
     },
     "execution_count": 18,
     "metadata": {},
     "output_type": "execute_result"
    }
   ],
   "source": [
    "type(age)"
   ]
  },
  {
   "cell_type": "code",
   "execution_count": 20,
   "id": "5e38325f-0c09-4af8-8a32-d230592fcd2d",
   "metadata": {},
   "outputs": [
    {
     "ename": "TypeError",
     "evalue": "'int' object is not iterable",
     "output_type": "error",
     "traceback": [
      "\u001b[31m---------------------------------------------------------------------------\u001b[39m",
      "\u001b[31mTypeError\u001b[39m                                 Traceback (most recent call last)",
      "\u001b[36mCell\u001b[39m\u001b[36m \u001b[39m\u001b[32mIn[20]\u001b[39m\u001b[32m, line 1\u001b[39m\n\u001b[32m----> \u001b[39m\u001b[32m1\u001b[39m \u001b[38;5;28;43;01mfor\u001b[39;49;00m\u001b[43m \u001b[49m\u001b[43mi\u001b[49m\u001b[43m \u001b[49m\u001b[38;5;129;43;01min\u001b[39;49;00m\u001b[43m \u001b[49m\u001b[32;43m5\u001b[39;49m\u001b[43m:\u001b[49m\n\u001b[32m      2\u001b[39m \u001b[43m    \u001b[49m\u001b[38;5;28;43mprint\u001b[39;49m\u001b[43m(\u001b[49m\u001b[43mname\u001b[49m\u001b[43m,\u001b[49m\u001b[43m \u001b[49m\u001b[43mage\u001b[49m\u001b[43m)\u001b[49m\n",
      "\u001b[31mTypeError\u001b[39m: 'int' object is not iterable"
     ]
    }
   ],
   "source": [
    "for i in 5:\n",
    "    print(name, age)"
   ]
  },
  {
   "cell_type": "code",
   "execution_count": 22,
   "id": "20db3370-cd5e-4da2-ac3c-8b21ef0587fa",
   "metadata": {},
   "outputs": [
    {
     "name": "stdout",
     "output_type": "stream",
     "text": [
      "Asal 20\n",
      "Asal 20\n",
      "Asal 20\n",
      "Asal 20\n",
      "Asal 20\n"
     ]
    }
   ],
   "source": [
    "for i in range(5):\n",
    "    print(name, age)"
   ]
  },
  {
   "cell_type": "code",
   "execution_count": 42,
   "id": "eaf39220-b388-431b-abd2-b5dbf6820f71",
   "metadata": {},
   "outputs": [],
   "source": [
    "integer_list = [1, 5, 2, 7, 9]"
   ]
  },
  {
   "cell_type": "code",
   "execution_count": 28,
   "id": "33c99cb2-e8e9-4b9b-ad02-cad21ded08e6",
   "metadata": {},
   "outputs": [
    {
     "name": "stdout",
     "output_type": "stream",
     "text": [
      "24\n"
     ]
    }
   ],
   "source": [
    "summation = sum(integer_list)\n",
    "print(summation)"
   ]
  },
  {
   "cell_type": "code",
   "execution_count": 30,
   "id": "d747ea5b-7cf5-4971-82e3-9a28d093fd18",
   "metadata": {},
   "outputs": [
    {
     "data": {
      "text/plain": [
       "1"
      ]
     },
     "execution_count": 30,
     "metadata": {},
     "output_type": "execute_result"
    }
   ],
   "source": [
    "min(integer_list)"
   ]
  },
  {
   "cell_type": "code",
   "execution_count": 32,
   "id": "47694c16-4fa7-469f-b707-2c4dda550858",
   "metadata": {},
   "outputs": [
    {
     "data": {
      "text/plain": [
       "9"
      ]
     },
     "execution_count": 32,
     "metadata": {},
     "output_type": "execute_result"
    }
   ],
   "source": [
    "max(integer_list)"
   ]
  },
  {
   "cell_type": "code",
   "execution_count": 38,
   "id": "8ac026e3-dd75-47c5-b0b0-b072a1ff5631",
   "metadata": {},
   "outputs": [],
   "source": [
    "integer_list = sorted(integer_list)"
   ]
  },
  {
   "cell_type": "code",
   "execution_count": 40,
   "id": "e4f0f154-1dc7-4cce-a535-589355de2451",
   "metadata": {},
   "outputs": [
    {
     "data": {
      "text/plain": [
       "[1, 2, 5, 7, 9]"
      ]
     },
     "execution_count": 40,
     "metadata": {},
     "output_type": "execute_result"
    }
   ],
   "source": [
    "integer_list"
   ]
  },
  {
   "cell_type": "code",
   "execution_count": 44,
   "id": "dac82ddb-d447-442c-aad4-4bc2cd49bbb3",
   "metadata": {},
   "outputs": [
    {
     "name": "stdout",
     "output_type": "stream",
     "text": [
      "[9, 7, 2, 5, 1]\n"
     ]
    }
   ],
   "source": [
    "print(list(reversed(integer_list)))"
   ]
  },
  {
   "cell_type": "code",
   "execution_count": 52,
   "id": "78010753-9059-45b3-b8dc-887342927611",
   "metadata": {},
   "outputs": [],
   "source": [
    "condition1 = True\n",
    "condition2 = True\n",
    "condition3 = True\n",
    "conditions = [condition1, condition2, condition3]"
   ]
  },
  {
   "cell_type": "code",
   "execution_count": 48,
   "id": "aa514c67-3993-4084-8e9e-2ce90dfe1c64",
   "metadata": {},
   "outputs": [
    {
     "data": {
      "text/plain": [
       "True"
      ]
     },
     "execution_count": 48,
     "metadata": {},
     "output_type": "execute_result"
    }
   ],
   "source": [
    "any(conditions)"
   ]
  },
  {
   "cell_type": "code",
   "execution_count": 54,
   "id": "b04ba99e-f0ab-4106-b834-4be1b5e60ca6",
   "metadata": {},
   "outputs": [
    {
     "data": {
      "text/plain": [
       "True"
      ]
     },
     "execution_count": 54,
     "metadata": {},
     "output_type": "execute_result"
    }
   ],
   "source": [
    "all(conditions)"
   ]
  },
  {
   "cell_type": "code",
   "execution_count": 56,
   "id": "c8191382",
   "metadata": {},
   "outputs": [
    {
     "name": "stdout",
     "output_type": "stream",
     "text": [
      "all(list_of_numbers): False\n",
      "any(list_of_numbers): True\n",
      "all(list_of_strings): False\n",
      "any(list_of_strings): True\n"
     ]
    }
   ],
   "source": [
    "list_of_numbers = [1, 2, 0, 4]\n",
    "list_of_strings = [\"hello\", \"\", \"world\"]\n",
    "\n",
    "print(f\"all(list_of_numbers): {all(list_of_numbers)}\") # Output: False (because of 0)\n",
    "print(f\"any(list_of_numbers): {any(list_of_numbers)}\") # Output: True (because 1, 2, 4 are truthy)\n",
    "\n",
    "print(f\"all(list_of_strings): {all(list_of_strings)}\") # Output: False (because of \"\")\n",
    "print(f\"any(list_of_strings): {any(list_of_strings)}\") # Output: True (because \"hello\", \"world\" are truthy)"
   ]
  },
  {
   "cell_type": "markdown",
   "id": "a20344d5-8003-4518-89a5-0ad048a12db0",
   "metadata": {},
   "source": [
    "## Dictionary"
   ]
  },
  {
   "cell_type": "code",
   "execution_count": 60,
   "id": "0f242d02-78b3-41bf-84ca-21f56cbc859d",
   "metadata": {},
   "outputs": [],
   "source": [
    "student = {\n",
    "    \"name\": \"Helia\",\n",
    "    \"age\": 20,\n",
    "    \"major\": \"CS\",\n",
    "    \"grades\": [20, 17, 18.5]\n",
    "}"
   ]
  },
  {
   "cell_type": "code",
   "execution_count": 62,
   "id": "25c2f282-d0ea-4c0c-94b6-619fb261e7c8",
   "metadata": {},
   "outputs": [
    {
     "name": "stdout",
     "output_type": "stream",
     "text": [
      "Helia\n",
      "{'name': 'Helia', 'age': 20, 'major': 'CS', 'grades': [20, 17, 18.5]}\n"
     ]
    }
   ],
   "source": [
    "print(student[\"name\"])\n",
    "print(student)"
   ]
  },
  {
   "cell_type": "code",
   "execution_count": 64,
   "id": "12dfd590-2862-4427-a7ab-b5fc2f6851dc",
   "metadata": {},
   "outputs": [
    {
     "name": "stdout",
     "output_type": "stream",
     "text": [
      "Helia\n",
      "None\n"
     ]
    }
   ],
   "source": [
    "#safer option, doesn't cause error\n",
    "print(student.get(\"name\", None))\n",
    "print(student.get(\"uni\", None))"
   ]
  },
  {
   "cell_type": "code",
   "execution_count": 66,
   "id": "fe04e52d-efe8-4e79-aba6-0b0bec09edac",
   "metadata": {},
   "outputs": [
    {
     "name": "stdout",
     "output_type": "stream",
     "text": [
      "25\n"
     ]
    }
   ],
   "source": [
    "student[\"age\"] = 25\n",
    "print(student[\"age\"])"
   ]
  },
  {
   "cell_type": "code",
   "execution_count": 68,
   "id": "331d373a-1df1-4f8c-8cef-057a4725ca15",
   "metadata": {},
   "outputs": [
    {
     "name": "stdout",
     "output_type": "stream",
     "text": [
      "University Of Guilan\n"
     ]
    }
   ],
   "source": [
    "student[\"uni\"] = \"University Of Guilan\"\n",
    "print(student[\"uni\"])"
   ]
  },
  {
   "cell_type": "code",
   "execution_count": 70,
   "id": "40923803-ac65-47d2-ae0d-3b07d207da12",
   "metadata": {},
   "outputs": [
    {
     "name": "stdout",
     "output_type": "stream",
     "text": [
      "{'name': 'Helia', 'age': 25, 'major': 'CS', 'grades': [20, 17, 18.5]}\n"
     ]
    }
   ],
   "source": [
    "del student[\"uni\"]\n",
    "print(student)"
   ]
  },
  {
   "cell_type": "code",
   "execution_count": 72,
   "id": "44fb2647-029a-414a-a2e2-86492afc729e",
   "metadata": {},
   "outputs": [
    {
     "data": {
      "text/plain": [
       "4"
      ]
     },
     "execution_count": 72,
     "metadata": {},
     "output_type": "execute_result"
    }
   ],
   "source": [
    "len(student)"
   ]
  },
  {
   "cell_type": "code",
   "execution_count": 74,
   "id": "c9775e80-9dcc-4ca9-80f6-fa541f759a9a",
   "metadata": {},
   "outputs": [
    {
     "data": {
      "text/plain": [
       "True"
      ]
     },
     "execution_count": 74,
     "metadata": {},
     "output_type": "execute_result"
    }
   ],
   "source": [
    "\"name\" in student"
   ]
  },
  {
   "cell_type": "code",
   "execution_count": 76,
   "id": "b16d2fb1-6c68-4525-a186-c6639f213a97",
   "metadata": {},
   "outputs": [
    {
     "name": "stdout",
     "output_type": "stream",
     "text": [
      "yes\n"
     ]
    }
   ],
   "source": [
    "if \"age\" in student:\n",
    "    print(\"yes\")"
   ]
  },
  {
   "cell_type": "code",
   "execution_count": null,
   "id": "c3d3be0f-7d89-490e-8f4d-081dde95165b",
   "metadata": {},
   "outputs": [],
   "source": [
    "print(student.keys())\n",
    "print(student.values()) "
   ]
  },
  {
   "cell_type": "code",
   "execution_count": 78,
   "id": "917f7ff9-857c-4f16-ae16-b28379c93d06",
   "metadata": {},
   "outputs": [
    {
     "data": {
      "text/plain": [
       "dict_items([('name', 'Helia'), ('age', 25), ('major', 'CS'), ('grades', [20, 17, 18.5])])"
      ]
     },
     "execution_count": 78,
     "metadata": {},
     "output_type": "execute_result"
    }
   ],
   "source": [
    "student.items()"
   ]
  },
  {
   "cell_type": "code",
   "execution_count": 80,
   "id": "384e64d0-7e3f-4a77-87d9-41a0331da7f7",
   "metadata": {},
   "outputs": [
    {
     "name": "stdout",
     "output_type": "stream",
     "text": [
      "[18]\n",
      "Saghar\n"
     ]
    }
   ],
   "source": [
    "student.update({\"grades\":[18], \"name\": \"Saghar\"})\n",
    "print(student[\"grades\"])\n",
    "print(student[\"name\"])"
   ]
  },
  {
   "cell_type": "markdown",
   "id": "376c8236-3517-4cb2-ab59-ea36ae6ca61c",
   "metadata": {},
   "source": [
    "## String"
   ]
  },
  {
   "cell_type": "code",
   "execution_count": 94,
   "id": "9e806c95-f5ed-433f-9808-733e625efa13",
   "metadata": {},
   "outputs": [],
   "source": [
    "string1 = \" Hello WORLD!     \""
   ]
  },
  {
   "cell_type": "code",
   "execution_count": 90,
   "id": "7cf91115-5f99-4a0e-af6f-7a31ad4c629b",
   "metadata": {},
   "outputs": [],
   "source": [
    "string1 = string1.strip()"
   ]
  },
  {
   "cell_type": "code",
   "execution_count": 92,
   "id": "b89d08e5-d54e-4bc8-8173-dff90ac470f5",
   "metadata": {},
   "outputs": [
    {
     "data": {
      "text/plain": [
       "'Hello WORLD!'"
      ]
     },
     "execution_count": 92,
     "metadata": {},
     "output_type": "execute_result"
    }
   ],
   "source": [
    "string1"
   ]
  },
  {
   "cell_type": "code",
   "execution_count": 96,
   "id": "242b5913-a1b1-4faa-9fe4-150f2509d449",
   "metadata": {},
   "outputs": [
    {
     "data": {
      "text/plain": [
       "True"
      ]
     },
     "execution_count": 96,
     "metadata": {},
     "output_type": "execute_result"
    }
   ],
   "source": [
    "\" \".isspace()"
   ]
  },
  {
   "cell_type": "code",
   "execution_count": 98,
   "id": "84dbb06e-d180-47f3-8ff4-1a0f1e3bf349",
   "metadata": {},
   "outputs": [
    {
     "data": {
      "text/plain": [
       "True"
      ]
     },
     "execution_count": 98,
     "metadata": {},
     "output_type": "execute_result"
    }
   ],
   "source": [
    "string1[-1].isspace()"
   ]
  },
  {
   "cell_type": "code",
   "execution_count": 100,
   "id": "b05589b2-e3fb-4ae5-affc-a37836dbfc0e",
   "metadata": {},
   "outputs": [
    {
     "data": {
      "text/plain": [
       "['Hello', 'WORLD!']"
      ]
     },
     "execution_count": 100,
     "metadata": {},
     "output_type": "execute_result"
    }
   ],
   "source": [
    "string1.split()"
   ]
  },
  {
   "cell_type": "code",
   "execution_count": 102,
   "id": "fb86e38e-cf5b-4a94-8039-cc96ebc2c18c",
   "metadata": {},
   "outputs": [
    {
     "data": {
      "text/plain": [
       "['a', 'b', 'c']"
      ]
     },
     "execution_count": 102,
     "metadata": {},
     "output_type": "execute_result"
    }
   ],
   "source": [
    "\"a,b,c\".split(\",\")"
   ]
  },
  {
   "cell_type": "code",
   "execution_count": null,
   "id": "8c0d04fb-39bc-46f4-bcc4-6ad160ca348b",
   "metadata": {},
   "outputs": [],
   "source": [
    "\" \".join(['a', 'b', 'c'])"
   ]
  },
  {
   "cell_type": "code",
   "execution_count": 104,
   "id": "9fa4a027-c9f3-42ac-9232-e3da5c2efff3",
   "metadata": {},
   "outputs": [
    {
     "data": {
      "text/plain": [
       "1"
      ]
     },
     "execution_count": 104,
     "metadata": {},
     "output_type": "execute_result"
    }
   ],
   "source": [
    "string1.count(\"L\")"
   ]
  },
  {
   "cell_type": "code",
   "execution_count": 106,
   "id": "75b40c8a-5d49-469c-8c11-ca92bf9c9a97",
   "metadata": {},
   "outputs": [
    {
     "data": {
      "text/plain": [
       "2"
      ]
     },
     "execution_count": 106,
     "metadata": {},
     "output_type": "execute_result"
    }
   ],
   "source": [
    "string1.count(\"l\")"
   ]
  },
  {
   "cell_type": "code",
   "execution_count": 110,
   "id": "1612732a-92e7-4125-b4b9-107caea120da",
   "metadata": {},
   "outputs": [],
   "source": [
    "string2 = \"welome to PYTHON.\""
   ]
  },
  {
   "cell_type": "code",
   "execution_count": 112,
   "id": "05bc1b40-2696-44e8-8adc-183b15cf23ae",
   "metadata": {},
   "outputs": [
    {
     "data": {
      "text/plain": [
       "True"
      ]
     },
     "execution_count": 112,
     "metadata": {},
     "output_type": "execute_result"
    }
   ],
   "source": [
    "string2.startswith(\"we\")"
   ]
  },
  {
   "cell_type": "code",
   "execution_count": 114,
   "id": "706e90c3-12ff-4193-920e-a0ff27f0ec95",
   "metadata": {},
   "outputs": [
    {
     "data": {
      "text/plain": [
       "False"
      ]
     },
     "execution_count": 114,
     "metadata": {},
     "output_type": "execute_result"
    }
   ],
   "source": [
    "string2.startswith(\"W\")"
   ]
  },
  {
   "cell_type": "code",
   "execution_count": 116,
   "id": "7aadd93f-9a4a-4f1d-8883-f8214ff08338",
   "metadata": {},
   "outputs": [
    {
     "data": {
      "text/plain": [
       "True"
      ]
     },
     "execution_count": 116,
     "metadata": {},
     "output_type": "execute_result"
    }
   ],
   "source": [
    "string2.endswith(\".\")"
   ]
  },
  {
   "cell_type": "code",
   "execution_count": 118,
   "id": "3c0837ff-f1bf-42de-b4b5-df921f45c3ce",
   "metadata": {},
   "outputs": [
    {
     "data": {
      "text/plain": [
       "False"
      ]
     },
     "execution_count": 118,
     "metadata": {},
     "output_type": "execute_result"
    }
   ],
   "source": [
    "string2.isalpha()"
   ]
  },
  {
   "cell_type": "code",
   "execution_count": 120,
   "id": "b220ff7c-e139-4c83-8c96-d3060e0361db",
   "metadata": {},
   "outputs": [
    {
     "data": {
      "text/plain": [
       "True"
      ]
     },
     "execution_count": 120,
     "metadata": {},
     "output_type": "execute_result"
    }
   ],
   "source": [
    "string2[0:6].isalpha()"
   ]
  },
  {
   "cell_type": "code",
   "execution_count": 122,
   "id": "4ea86a91-cfee-4070-b03e-d0cafedf61b1",
   "metadata": {},
   "outputs": [
    {
     "name": "stdout",
     "output_type": "stream",
     "text": [
      "True\n",
      "False\n"
     ]
    }
   ],
   "source": [
    "string3 = \"123\"\n",
    "print(string3.isdigit())\n",
    "print(string2[0:6].isdigit())"
   ]
  },
  {
   "cell_type": "code",
   "execution_count": 124,
   "id": "72e2de45-8673-4349-a210-47ff881770f5",
   "metadata": {},
   "outputs": [
    {
     "data": {
      "text/plain": [
       "True"
      ]
     },
     "execution_count": 124,
     "metadata": {},
     "output_type": "execute_result"
    }
   ],
   "source": [
    "string4 = \"1st\"\n",
    "string4.isalnum()"
   ]
  },
  {
   "cell_type": "markdown",
   "id": "89a31cf5-76b5-4292-9050-4d1ccdbe097d",
   "metadata": {},
   "source": [
    "## File I/O"
   ]
  },
  {
   "cell_type": "code",
   "execution_count": 126,
   "id": "00438109-f4ad-49c6-be23-b0009fd95a38",
   "metadata": {},
   "outputs": [],
   "source": [
    "import csv\n",
    "\n",
    "data = [\n",
    "    [\"Name\", \"Age\", \"City\"],\n",
    "    [\"Alice\", 25, \"New York\"],\n",
    "    [\"Bob\", 30, \"London\"],\n",
    "    [\"Charlie\", 22, \"Paris\"]\n",
    "]"
   ]
  },
  {
   "cell_type": "code",
   "execution_count": 130,
   "id": "d1fde60d-dce9-48e1-9ba9-533862731b9f",
   "metadata": {},
   "outputs": [],
   "source": [
    "with open(\"people.csv\", \"w\", newline=\"\", encoding=\"utf-8\") as file:\n",
    "    writer = csv.writer(file)\n",
    "    writer.writerows(data)"
   ]
  },
  {
   "cell_type": "markdown",
   "id": "cb1c0555-f2fb-43b9-9f64-ef4801665c65",
   "metadata": {},
   "source": [
    "|Mode |Meaning               |\n",
    "|-----|----------------------|\n",
    "|'r'  |Read (default)        |\n",
    "|'w'  |Write (overwrite file)|"
   ]
  },
  {
   "cell_type": "code",
   "execution_count": 132,
   "id": "eb127073-3bde-4c86-a7a1-65eb3d3a8984",
   "metadata": {},
   "outputs": [
    {
     "name": "stdout",
     "output_type": "stream",
     "text": [
      "['Name', 'Age', 'City']\n",
      "['Alice', '25', 'New York']\n",
      "['Bob', '30', 'London']\n",
      "['Charlie', '22', 'Paris']\n"
     ]
    }
   ],
   "source": [
    "with open(\"people.csv\", \"r\", encoding=\"utf-8\") as file:\n",
    "    reader = csv.reader(file)\n",
    "    for row in reader:\n",
    "        print(row)"
   ]
  },
  {
   "cell_type": "markdown",
   "id": "b25cbeea-54d0-4f4c-a208-a7f69e18a48e",
   "metadata": {},
   "source": [
    "## Exercises"
   ]
  },
  {
   "cell_type": "markdown",
   "id": "d8225d88-4534-4502-9ef6-7526d699921b",
   "metadata": {},
   "source": [
    "### 1. Write a Python program that determines whether a given number is prime or composite.\n",
    "\n",
    "#### Your program should:\n",
    "\n",
    "- Ask the user to enter an integer number.\n",
    "\n",
    "- Check whether the number is prime (divisible only by 1 and itself) or composite (has more than two factors).\n",
    "\n",
    "- Display a clear message indicating the result, for example:\n",
    "\n",
    "  - “The number 7 is prime.”\n",
    "\n",
    "  - “The number 12 is composite.”"
   ]
  },
  {
   "cell_type": "code",
   "execution_count": 146,
   "id": "433d3157-a537-46b4-ab95-73eaceb18b04",
   "metadata": {},
   "outputs": [
    {
     "name": "stdin",
     "output_type": "stream",
     "text": [
      "Enter a number:  5\n"
     ]
    },
    {
     "name": "stdout",
     "output_type": "stream",
     "text": [
      "The number 5 is prime.\n"
     ]
    }
   ],
   "source": [
    "num = int(input(\"Enter a number: \"))\n",
    "\n",
    "if num == 1:\n",
    "    print(\"The number 1 is prime.\")\n",
    "elif num > 1:\n",
    "    for i in range (2, int(num**(0.5)+1)):\n",
    "        if num % i == 0:\n",
    "            print(f\"The number {num} is composite.\")\n",
    "            break\n",
    "    else:\n",
    "        print(f\"The number {num} is prime.\")\n",
    "else:\n",
    "    print(\"Enter a number greater than 1.\")\n",
    "    "
   ]
  },
  {
   "cell_type": "markdown",
   "id": "6ee10e5d-b5c9-4488-8b3b-da1f34706326",
   "metadata": {},
   "source": [
    "### 2. Write a Python program that takes an integer number from the user and calculates the sum of all its digits.\n",
    "\n",
    "#### Your program should:\n",
    "\n",
    "- Ask the user to enter a positive integer number.\n",
    "\n",
    "- Extract each digit of the number.\n",
    "\n",
    "- Find the total (sum) of all the digits.\n",
    "\n",
    "- Display the final result clearly to the user.\n",
    "\n",
    "##### Example:\n",
    "```\n",
    "Input: 4729\n",
    "Output: The sum of the digits is 22.\n",
    "```"
   ]
  },
  {
   "cell_type": "code",
   "execution_count": 156,
   "id": "bc8523ea-ae3f-4c99-b7b0-afc73765ed57",
   "metadata": {},
   "outputs": [
    {
     "name": "stdin",
     "output_type": "stream",
     "text": [
      "Enter a number:  123\n"
     ]
    },
    {
     "name": "stdout",
     "output_type": "stream",
     "text": [
      "6\n"
     ]
    }
   ],
   "source": [
    "num = input(\"Enter a number: \")\n",
    "num = list(num)\n",
    "sum = 0\n",
    "for i in num:\n",
    "    sum += int(i)\n",
    "print(sum)"
   ]
  },
  {
   "cell_type": "markdown",
   "id": "00019956-d07d-42b8-bfad-20755faa3196",
   "metadata": {},
   "source": [
    "### 3. Write a Python program that counts how many vowels appear in a given string.\n",
    "\n",
    "#### Your program should:\n",
    "\n",
    "- Ask the user to enter a word, phrase, or sentence.\n",
    "\n",
    "- Count how many characters are vowels (a, e, i, o, u).\n",
    "\n",
    "- Display the total number of vowels found in the input.\n",
    "\n",
    "Example:\n",
    "```\n",
    "Input: Education\n",
    "Output: The number of vowels is 5.\n",
    "```\n"
   ]
  },
  {
   "cell_type": "code",
   "execution_count": 166,
   "id": "2e5eebe0-db9d-4902-aef1-395a09257eca",
   "metadata": {},
   "outputs": [
    {
     "name": "stdin",
     "output_type": "stream",
     "text": [
      "Enter a phrase:  klp\n"
     ]
    },
    {
     "name": "stdout",
     "output_type": "stream",
     "text": [
      "0\n"
     ]
    }
   ],
   "source": [
    "string = input(\"Enter a phrase: \")\n",
    "count = 0\n",
    "string = string.lower()\n",
    "for i in string:\n",
    "    if i in [\"a\", \"e\", \"i\", \"u\", \"o\"]:\n",
    "        count += 1\n",
    "print(count)"
   ]
  },
  {
   "cell_type": "code",
   "execution_count": null,
   "id": "cd4b17e9-5519-4d28-af48-0dcec22e3ba0",
   "metadata": {},
   "outputs": [],
   "source": []
  }
 ],
 "metadata": {
  "kernelspec": {
   "display_name": "Python 3 (ipykernel)",
   "language": "python",
   "name": "python3"
  },
  "language_info": {
   "codemirror_mode": {
    "name": "ipython",
    "version": 3
   },
   "file_extension": ".py",
   "mimetype": "text/x-python",
   "name": "python",
   "nbconvert_exporter": "python",
   "pygments_lexer": "ipython3",
   "version": "3.12.7"
  }
 },
 "nbformat": 4,
 "nbformat_minor": 5
}
